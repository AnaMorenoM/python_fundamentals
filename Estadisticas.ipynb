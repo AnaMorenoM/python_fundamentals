{
  "nbformat": 4,
  "nbformat_minor": 0,
  "metadata": {
    "colab": {
      "provenance": []
    },
    "kernelspec": {
      "name": "python3",
      "display_name": "Python 3"
    },
    "language_info": {
      "name": "python"
    }
  },
  "cells": [
    {
      "cell_type": "code",
      "execution_count": 9,
      "metadata": {
        "colab": {
          "base_uri": "https://localhost:8080/",
          "height": 0
        },
        "id": "-XuOpOw3ItQp",
        "outputId": "5be30531-19e5-45fc-a3b3-976fcb6f6a5e"
      },
      "outputs": [
        {
          "output_type": "stream",
          "name": "stdout",
          "text": [
            "   Nombre  Edad  Salario Genero\n",
            "0   Ringo    45    12000      M\n",
            "1    John    34    14000      M\n",
            "2    Paul    42    13000      M\n",
            "3  Geroge    38    11000      M\n",
            "4    Yoko    47    10000      F\n"
          ]
        }
      ],
      "source": [
        "import pandas as pd\n",
        "\n",
        "salarios={\"Nombre\":[\"Ringo\",\"John\",\"Paul\",\"Geroge\",\"Yoko\"],\"Edad\":[45,34,42,38,47],\"Salario\":[12000,14000,13000,11000,10000],\"Genero\":[\"M\",\"M\",\"M\",\"M\",\"F\"]}\n",
        "df = pd.DataFrame(salarios)\n",
        "print(df.head())\n"
      ]
    },
    {
      "cell_type": "code",
      "source": [
        "salario = df[\"Salario\"]\n",
        "rango = salario.max() - salario.min()\n",
        "print(f\"El rango es {rango}\")\n"
      ],
      "metadata": {
        "colab": {
          "base_uri": "https://localhost:8080/",
          "height": 0
        },
        "id": "Dq-7ckQnKfbF",
        "outputId": "bb78d395-162f-4f50-f932-e70b9a9311ac"
      },
      "execution_count": 13,
      "outputs": [
        {
          "output_type": "stream",
          "name": "stdout",
          "text": [
            "El rango es 4000\n"
          ]
        }
      ]
    },
    {
      "cell_type": "code",
      "source": [
        "print(salario.describe())"
      ],
      "metadata": {
        "colab": {
          "base_uri": "https://localhost:8080/",
          "height": 0
        },
        "id": "rUcJ9EZPKoMz",
        "outputId": "50f5704f-0c67-4bba-8aa9-707ee812e244"
      },
      "execution_count": 14,
      "outputs": [
        {
          "output_type": "stream",
          "name": "stdout",
          "text": [
            "count        5.00000\n",
            "mean     12000.00000\n",
            "std       1581.13883\n",
            "min      10000.00000\n",
            "25%      11000.00000\n",
            "50%      12000.00000\n",
            "75%      13000.00000\n",
            "max      14000.00000\n",
            "Name: Salario, dtype: float64\n"
          ]
        }
      ]
    }
  ]
}