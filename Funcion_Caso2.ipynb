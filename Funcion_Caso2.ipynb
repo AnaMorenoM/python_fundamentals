{
  "nbformat": 4,
  "nbformat_minor": 0,
  "metadata": {
    "colab": {
      "provenance": []
    },
    "kernelspec": {
      "name": "python3",
      "display_name": "Python 3"
    },
    "language_info": {
      "name": "python"
    }
  },
  "cells": [
    {
      "cell_type": "code",
      "execution_count": 27,
      "metadata": {
        "colab": {
          "base_uri": "https://localhost:8080/"
        },
        "id": "1okNm18ANmSi",
        "outputId": "40b94817-0b3a-4955-af04-93e235540e3e"
      },
      "outputs": [
        {
          "output_type": "stream",
          "name": "stdout",
          "text": [
            "La respuesta cuenta con un valor imaginario\n",
            "False False\n"
          ]
        }
      ],
      "source": [
        "def cuadratica(a,b,c):\n",
        "    return 0\n",
        "def cuadratica(a,b,c):\n",
        "    discriminante=b**2-4*a*c\n",
        "    return 0\n",
        "def cuadratica(a,b,c):\n",
        "    discriminante=b**2-4*a*c\n",
        "    if discriminante <0:\n",
        "      print(\"La respuesta cuenta con un valor imaginario\")\n",
        "      return False,False\n",
        "    else:\n",
        "          x1=(-b+discriminante**0.5)/(2*a)\n",
        "          x2=(-b+discriminante**0.5)/(2*a)\n",
        "          return x1,x2\n",
        "x1,x2 =cuadratica(1,2,5)\n",
        "print(x1,x2)"
      ]
    }
  ]
}