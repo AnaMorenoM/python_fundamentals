{
  "cells": [
    {
      "cell_type": "code",
      "source": [
        "x=24\r\n",
        "x//=2\r\n",
        "print(f\"Tengo {x} años\")\r\n",
        "mi_edad = 6\r\n",
        "y = (mi_edad + 15) * 3\r\n",
        "print(f\"Mi hermana tiene {y} años.\")\r\n",
        "if x > y:\r\n",
        "\tprint(\"Soy mayor que mi hermana.\")\r\n",
        "elif x < y:\r\n",
        "\tprint(\"Mi hermana es mayor que yo.\")\r\n",
        "else:\r\n",
        "\tprint(\"Mi hermana y yo tenemos la misma edad.\")"
      ],
      "outputs": [
        {
          "output_type": "display_data",
          "data": {
            "application/vnd.livy.statement-meta+json": {
              "spark_pool": "SPKSmallCAPlab1",
              "session_id": "5",
              "statement_id": 16,
              "state": "finished",
              "livy_statement_state": "available",
              "queued_time": "2023-07-10T17:29:32.0846254Z",
              "session_start_time": null,
              "execution_start_time": "2023-07-10T17:29:32.2502932Z",
              "execution_finish_time": "2023-07-10T17:29:32.4063408Z",
              "spark_jobs": null,
              "parent_msg_id": "50c7fbec-b89d-44d5-81d8-9a961fb9ba44"
            },
            "text/plain": "StatementMeta(SPKSmallCAPlab1, 5, 16, Finished, Available)"
          },
          "metadata": {}
        },
        {
          "output_type": "stream",
          "name": "stdout",
          "text": [
            "Tengo 12 años\nMi hermana tiene 63 años.\nMi hermana es mayor que yo.\n"
          ]
        }
      ],
      "execution_count": 46,
      "metadata": {}
    }
  ],
  "metadata": {
    "language_info": {
      "name": "python"
    },
    "kernelspec": {
      "name": "synapse_pyspark",
      "language": "Python",
      "display_name": "Synapse PySpark"
    },
    "kernel_info": {
      "name": "synapse_pyspark"
    },
    "save_output": true,
    "synapse_widget": {
      "version": "0.1",
      "state": {}
    }
  },
  "nbformat": 4,
  "nbformat_minor": 2
}