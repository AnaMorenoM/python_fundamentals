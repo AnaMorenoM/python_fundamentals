{
  "nbformat": 4,
  "nbformat_minor": 0,
  "metadata": {
    "colab": {
      "provenance": []
    },
    "kernelspec": {
      "name": "python3",
      "display_name": "Python 3"
    },
    "language_info": {
      "name": "python"
    }
  },
  "cells": [
    {
      "cell_type": "code",
      "execution_count": 4,
      "metadata": {
        "colab": {
          "base_uri": "https://localhost:8080/"
        },
        "id": "C58QUTy2P85R",
        "outputId": "b41ed1ff-ad89-46e8-c8d6-ddc1312d50bc"
      },
      "outputs": [
        {
          "output_type": "stream",
          "name": "stdout",
          "text": [
            "El valor más pequeño de la lista anterior es:1\n",
            "El valor más grande de la lista anterior es:200\n"
          ]
        }
      ],
      "source": [
        "diccionario_base={\"Ana\":5,\"Daniel\":20,\"Kevin\":1,\"Nancy\":200,\"Vicky\":3}\n",
        "valores=diccionario_base.values()\n",
        "minimo=min(valores)\n",
        "maximo=max(valores)\n",
        "print(f\"El valor más pequeño de la lista anterior es:{minimo}\")\n",
        "print(f\"El valor más grande de la lista anterior es:{maximo}\")"
      ]
    }
  ]
}