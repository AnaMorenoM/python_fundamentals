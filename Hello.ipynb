{
  "cells": [
    {
      "cell_type": "code",
      "source": [
        "print(\"Mi nombre es Ana Isabel Moreno\")\r\n",
        "print(\"Aprender es un proceso constante o no es nada\")"
      ],
      "outputs": [
        {
          "output_type": "display_data",
          "data": {
            "application/vnd.livy.statement-meta+json": {
              "spark_pool": "SPKSmallCAPlab1",
              "session_id": "2",
              "statement_id": 7,
              "state": "finished",
              "livy_statement_state": "available",
              "queued_time": "2023-07-07T18:50:43.0381842Z",
              "session_start_time": null,
              "execution_start_time": "2023-07-07T18:50:43.1870747Z",
              "execution_finish_time": "2023-07-07T18:50:43.3534131Z",
              "spark_jobs": null,
              "parent_msg_id": "5173cf98-aeed-41c0-ae9d-8fc6582470a0"
            },
            "text/plain": "StatementMeta(SPKSmallCAPlab1, 2, 7, Finished, Available)"
          },
          "metadata": {}
        },
        {
          "output_type": "stream",
          "name": "stdout",
          "text": [
            "Mi nombre es Ana Isabel Moreno\nAprender es un proceso constante o no es nada\n"
          ]
        }
      ],
      "execution_count": 7,
      "metadata": {}
    }
  ],
  "metadata": {
    "kernelspec": {
      "name": "synapse_pyspark",
      "language": "Python",
      "display_name": "Synapse PySpark"
    },
    "language_info": {
      "name": "python"
    },
    "kernel_info": {
      "name": "synapse_pyspark"
    },
    "save_output": true,
    "synapse_widget": {
      "version": "0.1",
      "state": {}
    }
  },
  "nbformat": 4,
  "nbformat_minor": 2
}