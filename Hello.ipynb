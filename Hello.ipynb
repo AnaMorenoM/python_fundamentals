{
  "cells": [
    {
      "cell_type": "code",
      "source": [
        "print(\"Mi nombre es Ana Isabel Moreno\")\r\n",
        "print(\"Aprender es un proceso constante o no es nada\")\r\n",
        "print(\"¡Hola Mundo!\")"
      ],
      "outputs": [
        {
          "output_type": "display_data",
          "data": {
            "application/vnd.livy.statement-meta+json": {
              "spark_pool": "SPKSmallCAPlab1",
              "session_id": "2",
              "statement_id": 9,
              "state": "finished",
              "livy_statement_state": "available",
              "queued_time": "2023-07-07T18:54:45.9708001Z",
              "session_start_time": null,
              "execution_start_time": "2023-07-07T18:54:46.1083814Z",
              "execution_finish_time": "2023-07-07T18:54:46.2742534Z",
              "spark_jobs": null,
              "parent_msg_id": "8c108947-af76-496b-bc9d-689936e3909e"
            },
            "text/plain": "StatementMeta(SPKSmallCAPlab1, 2, 9, Finished, Available)"
          },
          "metadata": {}
        },
        {
          "output_type": "stream",
          "name": "stdout",
          "text": [
            "Mi nombre es Ana Isabel Moreno\nAprender es un proceso constante o no es nada\n¡Hola Mundo!\n"
          ]
        }
      ],
      "execution_count": 9,
      "metadata": {}
    }
  ],
  "metadata": {
    "kernelspec": {
      "name": "synapse_pyspark",
      "language": "Python",
      "display_name": "Synapse PySpark"
    },
    "language_info": {
      "name": "python"
    },
    "kernel_info": {
      "name": "synapse_pyspark"
    },
    "save_output": true,
    "synapse_widget": {
      "version": "0.1",
      "state": {}
    }
  },
  "nbformat": 4,
  "nbformat_minor": 2
}