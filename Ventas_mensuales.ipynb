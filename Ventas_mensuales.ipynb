{
  "cells": [
    {
      "cell_type": "code",
      "source": [
        "import numpy as np\r\n",
        "ventas_mensuales = np.array([ [1200, 1500, 800, 2500], [1800, 1600, 900, 2800], [1500, 1400, 950, 2600], [1300, 1700, 850, 2700], [2000, 1800, 950, 2900], [1700, 1600, 900, 2700], [1400, 1300, 850, 2500], [1600, 1400, 1000, 2600], [1800, 1700, 950, 2900], [1900, 1500, 850, 2800], [1700, 1600, 900, 2600], [2100, 1800, 1000, 3000] ])\r\n",
        "print(ventas_mensuales)\r\n",
        "np.sum(ventas_mensuales, axis=0)"
      ],
      "outputs": [
        {
          "output_type": "display_data",
          "data": {
            "application/vnd.livy.statement-meta+json": {
              "spark_pool": "SPK00",
              "session_id": "6",
              "statement_id": 5,
              "state": "finished",
              "livy_statement_state": "available",
              "queued_time": "2023-07-13T18:05:15.0726288Z",
              "session_start_time": null,
              "execution_start_time": "2023-07-13T18:05:15.3062808Z",
              "execution_finish_time": "2023-07-13T18:05:15.5025824Z",
              "spark_jobs": null,
              "parent_msg_id": "f9c7f9cb-64a5-4ae6-952e-4472e9b5569c"
            },
            "text/plain": "StatementMeta(SPK00, 6, 5, Finished, Available)"
          },
          "metadata": {}
        },
        {
          "output_type": "stream",
          "name": "stdout",
          "text": [
            "[[1200 1500  800 2500]\n [1800 1600  900 2800]\n [1500 1400  950 2600]\n [1300 1700  850 2700]\n [2000 1800  950 2900]\n [1700 1600  900 2700]\n [1400 1300  850 2500]\n [1600 1400 1000 2600]\n [1800 1700  950 2900]\n [1900 1500  850 2800]\n [1700 1600  900 2600]\n [2100 1800 1000 3000]]\n"
          ]
        },
        {
          "output_type": "execute_result",
          "execution_count": 11,
          "data": {
            "text/plain": "array([20000, 18900, 10900, 32600])"
          },
          "metadata": {}
        }
      ],
      "execution_count": 4,
      "metadata": {}
    }
  ],
  "metadata": {
    "language_info": {
      "name": "python"
    },
    "kernelspec": {
      "name": "synapse_pyspark",
      "language": "Python",
      "display_name": "Synapse PySpark"
    },
    "kernel_info": {
      "name": "synapse_pyspark"
    },
    "save_output": true,
    "synapse_widget": {
      "version": "0.1",
      "state": {}
    }
  },
  "nbformat": 4,
  "nbformat_minor": 2
}