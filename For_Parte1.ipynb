{
  "nbformat": 4,
  "nbformat_minor": 0,
  "metadata": {
    "colab": {
      "provenance": []
    },
    "kernelspec": {
      "name": "python3",
      "display_name": "Python 3"
    },
    "language_info": {
      "name": "python"
    }
  },
  "cells": [
    {
      "cell_type": "code",
      "execution_count": 5,
      "metadata": {
        "colab": {
          "base_uri": "https://localhost:8080/"
        },
        "id": "eGAxoQePONJk",
        "outputId": "c7271bd8-3736-4466-c42f-6a183200209b"
      },
      "outputs": [
        {
          "output_type": "stream",
          "name": "stdout",
          "text": [
            "Nombre:Ana\n",
            "Numero:5\n",
            "Nombre:Daniel\n",
            "Numero:20\n",
            "Nombre:Kevin\n",
            "Numero:1\n",
            "Nombre:Nancy\n",
            "Numero:200\n",
            "Nombre:Vicky\n",
            "Numero:3\n"
          ]
        }
      ],
      "source": [
        "diccionario_base={\"Ana\":5,\"Daniel\":20,\"Kevin\":1,\"Nancy\":200,\"Vicky\":3}\n",
        "for i in diccionario_base:\n",
        "    nombre=i\n",
        "    print(f\"Nombre:{nombre}\")\n",
        "    numero=diccionario_base[i]\n",
        "    print(f\"Numero:{numero}\")"
      ]
    }
  ]
}