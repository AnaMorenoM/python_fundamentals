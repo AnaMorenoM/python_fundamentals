{
  "nbformat": 4,
  "nbformat_minor": 0,
  "metadata": {
    "colab": {
      "provenance": []
    },
    "kernelspec": {
      "name": "python3",
      "display_name": "Python 3"
    },
    "language_info": {
      "name": "python"
    }
  },
  "cells": [
    {
      "cell_type": "code",
      "execution_count": null,
      "metadata": {
        "colab": {
          "base_uri": "https://localhost:8080/"
        },
        "id": "EcQLZu9mWSlW",
        "outputId": "d1a50f31-4aea-4a03-c3c6-09660389a8d6"
      },
      "outputs": [
        {
          "output_type": "stream",
          "name": "stdout",
          "text": [
            "Ingrese el monto de la compra1500\n",
            "Total a pagar 1350.0\n",
            "Ingrese el monto de la compra800\n",
            "Total a pagar 1935.0\n",
            "Ingrese el monto de la compra-5\n",
            "El valor ingresado no es valido.\n"
          ]
        }
      ],
      "source": [
        "total = 0\n",
        "while True:\n",
        "    monto=float(input(\"Ingrese el monto de la compra\"))\n",
        "    if monto==0:\n",
        "      break;\n",
        "    if monto<0:\n",
        "      print(\"El valor ingresado no es valido.\")\n",
        "      continue;\n",
        "    total+=monto\n",
        "    if total > 1000:\n",
        "      total*=0.9\n",
        "      print(\"Total a pagar\",total)\n",
        "\n"
      ]
    }
  ]
}