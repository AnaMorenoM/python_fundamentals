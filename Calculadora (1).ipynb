{
  "nbformat": 4,
  "nbformat_minor": 0,
  "metadata": {
    "colab": {
      "provenance": []
    },
    "kernelspec": {
      "name": "python3",
      "display_name": "Python 3"
    },
    "language_info": {
      "name": "python"
    }
  },
  "cells": [
    {
      "cell_type": "code",
      "execution_count": 35,
      "metadata": {
        "colab": {
          "base_uri": "https://localhost:8080/"
        },
        "id": "HT_WNG3PT_NU",
        "outputId": "a7fd08f8-46c9-4ed0-bcd3-3c35afd19a9c"
      },
      "outputs": [
        {
          "output_type": "stream",
          "name": "stdout",
          "text": [
            "Ingresa los numeros a evaluar\n",
            "Ingresa el primer número: 10\n",
            "Ingresa el segundo número: 2\n",
            "la suma es: 12\n",
            "la resta es: 8\n",
            "la multiplicacion es: 20\n",
            "la division es: 5.0\n"
          ]
        }
      ],
      "source": [
        "class Calculadora:\n",
        "  def __init__(self,valor_1,valor_2):\n",
        "    self.valor_1= valor_1\n",
        "    self.valor_2= valor_2\n",
        "  def suma(self):\n",
        "        return self.valor_1+self.valor_2\n",
        "  def resta(self):\n",
        "       return self.valor_1-self.valor_2\n",
        "  def multiplicacion(self):\n",
        "       return self.valor_1*self.valor_2\n",
        "  def division(self):\n",
        "        if self.valor_2!=0:\n",
        "         return self.valor_1/self.valor_2\n",
        "        else:\n",
        "         return \"El resultado de esta division es indefinido\"\n",
        "print(\"Ingresa los numeros a evaluar\")\n",
        "valor_1=int(input(\"Ingresa el primer número: \"))\n",
        "valor_2=int(input(\"Ingresa el segundo número: \"))\n",
        "calc = Calculadora(valor_1,valor_2)\n",
        "print(\"la suma es:\",calc.suma())\n",
        "print(\"la resta es:\",calc.resta())\n",
        "print(\"la multiplicacion es:\",calc.multiplicacion())\n",
        "print(\"la division es:\",calc.division())"
      ]
    }
  ]
}