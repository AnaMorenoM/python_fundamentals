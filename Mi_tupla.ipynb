{
  "cells": [
    {
      "cell_type": "code",
      "source": [
        "Boolean=False\r\n",
        "Mi_tupla=(\"Ternium\",7,8.3,Boolean)\r\n",
        "print(Mi_tupla)\r\n",
        "Mi_list=list(Mi_tupla)\r\n",
        "print(Mi_list)\r\n",
        "Mi_diccionario  = {}\r\n",
        "for i in range(len(Mi_list)): Mi_diccionario[i+1] = Mi_list[i]\r\n",
        "print(Mi_diccionario)\r\n"
      ],
      "outputs": [
        {
          "output_type": "display_data",
          "data": {
            "application/vnd.livy.statement-meta+json": {
              "spark_pool": "SPKSmallCAPlab1",
              "session_id": "3",
              "statement_id": 35,
              "state": "finished",
              "livy_statement_state": "available",
              "queued_time": "2023-07-07T21:40:40.3587324Z",
              "session_start_time": null,
              "execution_start_time": "2023-07-07T21:40:40.4989332Z",
              "execution_finish_time": "2023-07-07T21:40:40.6960582Z",
              "spark_jobs": null,
              "parent_msg_id": "611ede7f-da88-4905-ab99-577dde2d3ff8"
            },
            "text/plain": "StatementMeta(SPKSmallCAPlab1, 3, 35, Finished, Available)"
          },
          "metadata": {}
        },
        {
          "output_type": "stream",
          "name": "stdout",
          "text": [
            "('Ternium', 7, 8.3, False)\n['Ternium', 7, 8.3, False]\n{1: 'Ternium', 2: 7, 3: 8.3, 4: False}\n"
          ]
        }
      ],
      "execution_count": 34,
      "metadata": {}
    }
  ],
  "metadata": {
    "kernelspec": {
      "name": "synapse_pyspark",
      "language": "Python",
      "display_name": "Synapse PySpark"
    },
    "language_info": {
      "name": "python"
    },
    "kernel_info": {
      "name": "synapse_pyspark"
    },
    "save_output": true,
    "synapse_widget": {
      "version": "0.1",
      "state": {}
    }
  },
  "nbformat": 4,
  "nbformat_minor": 2
}