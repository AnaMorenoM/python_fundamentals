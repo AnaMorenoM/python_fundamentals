{
  "nbformat": 4,
  "nbformat_minor": 0,
  "metadata": {
    "colab": {
      "provenance": []
    },
    "kernelspec": {
      "name": "python3",
      "display_name": "Python 3"
    },
    "language_info": {
      "name": "python"
    }
  },
  "cells": [
    {
      "cell_type": "code",
      "execution_count": null,
      "metadata": {
        "id": "hKNZGkD-Zwza"
      },
      "outputs": [],
      "source": [
        "minutos = 0\n",
        "costo = 0\n",
        "while True:\n",
        "    minutos= int(input(\"Ingresa el tiempo trabajado en minutos:\"))\n",
        "    if minutos==0:\n",
        "        print(\"No trabajo\")\n",
        "        break;\n",
        "    if minutos<0:\n",
        "        print(\"No valido\")\n",
        "        continue;\n",
        "    if minutos>480:\n",
        "      costo=225\n",
        "    elif minutos>60:\n",
        "      costo=25 + (15*((minutos-60)/60))\n",
        "    elif minutos>0:\n",
        "      costo=25\n",
        "    else:\n",
        "      costo=0\n",
        "    print(\"Total a pagar\",costo)\n"
      ]
    }
  ]
}