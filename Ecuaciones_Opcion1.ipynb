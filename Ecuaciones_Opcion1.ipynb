{
  "cells": [
    {
      "cell_type": "code",
      "source": [
        "a=(8*2)+10-2\r\n",
        "a//=2\r\n",
        "a"
      ],
      "outputs": [
        {
          "output_type": "display_data",
          "data": {
            "application/vnd.livy.statement-meta+json": {
              "spark_pool": "SPKSmallCAPlab1",
              "session_id": "4",
              "statement_id": 18,
              "state": "finished",
              "livy_statement_state": "available",
              "queued_time": "2023-07-10T16:23:40.2959441Z",
              "session_start_time": null,
              "execution_start_time": "2023-07-10T16:23:40.4454164Z",
              "execution_finish_time": "2023-07-10T16:23:40.6468586Z",
              "spark_jobs": null,
              "parent_msg_id": "56451ae6-cadd-4954-b13e-77e29a9a13b1"
            },
            "text/plain": "StatementMeta(SPKSmallCAPlab1, 4, 18, Finished, Available)"
          },
          "metadata": {}
        },
        {
          "output_type": "execute_result",
          "execution_count": 55,
          "data": {
            "text/plain": "12"
          },
          "metadata": {}
        }
      ],
      "execution_count": 17,
      "metadata": {}
    },
    {
      "cell_type": "code",
      "source": [
        "Mi_edad=6\r\n",
        "Edad_Hermana=(Mi_edad+15)*3\r\n",
        "Edad_Hermana"
      ],
      "outputs": [
        {
          "output_type": "display_data",
          "data": {
            "application/vnd.livy.statement-meta+json": {
              "spark_pool": "SPKSmallCAPlab1",
              "session_id": "4",
              "statement_id": 23,
              "state": "finished",
              "livy_statement_state": "available",
              "queued_time": "2023-07-10T16:31:15.6385701Z",
              "session_start_time": null,
              "execution_start_time": "2023-07-10T16:31:15.8336218Z",
              "execution_finish_time": "2023-07-10T16:31:15.9954877Z",
              "spark_jobs": null,
              "parent_msg_id": "b7ddaeb6-697a-4883-be70-ff7305bbc69a"
            },
            "text/plain": "StatementMeta(SPKSmallCAPlab1, 4, 23, Finished, Available)"
          },
          "metadata": {}
        },
        {
          "output_type": "execute_result",
          "execution_count": 70,
          "data": {
            "text/plain": "63"
          },
          "metadata": {}
        }
      ],
      "execution_count": 22,
      "metadata": {
        "jupyter": {
          "source_hidden": false,
          "outputs_hidden": false
        },
        "nteract": {
          "transient": {
            "deleting": false
          }
        }
      }
    },
    {
      "cell_type": "code",
      "source": [
        "x=63\r\n",
        "y=6\r\n",
        "if x>y:\r\n",
        "    print(\"Mi hermana es mayor que yo\")\r\n",
        "else:print(\"Yo soy mayor que mi hermana\")"
      ],
      "outputs": [
        {
          "output_type": "display_data",
          "data": {
            "application/vnd.livy.statement-meta+json": {
              "spark_pool": "SPKSmallCAPlab1",
              "session_id": "4",
              "statement_id": 32,
              "state": "finished",
              "livy_statement_state": "available",
              "queued_time": "2023-07-10T16:52:45.7502083Z",
              "session_start_time": null,
              "execution_start_time": "2023-07-10T16:52:45.9002685Z",
              "execution_finish_time": "2023-07-10T16:52:46.0628552Z",
              "spark_jobs": null,
              "parent_msg_id": "83c0469f-f466-443c-82f8-77836e1623df"
            },
            "text/plain": "StatementMeta(SPKSmallCAPlab1, 4, 32, Finished, Available)"
          },
          "metadata": {}
        },
        {
          "output_type": "stream",
          "name": "stdout",
          "text": [
            "Mi hermana es mayor que yo\n"
          ]
        }
      ],
      "execution_count": 31,
      "metadata": {
        "jupyter": {
          "source_hidden": false,
          "outputs_hidden": false
        },
        "nteract": {
          "transient": {
            "deleting": false
          }
        }
      }
    }
  ],
  "metadata": {
    "language_info": {
      "name": "python"
    },
    "kernelspec": {
      "name": "synapse_pyspark",
      "language": "Python",
      "display_name": "Synapse PySpark"
    },
    "kernel_info": {
      "name": "synapse_pyspark"
    },
    "save_output": true,
    "synapse_widget": {
      "version": "0.1",
      "state": {}
    }
  },
  "nbformat": 4,
  "nbformat_minor": 2
}