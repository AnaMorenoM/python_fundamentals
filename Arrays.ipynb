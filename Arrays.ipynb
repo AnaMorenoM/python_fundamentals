{
  "cells": [
    {
      "cell_type": "code",
      "source": [
        "import numpy as np\r\n",
        "matriz_3x3 = np.arange(9).reshape(3, 3)\r\n",
        "print(matriz_3x3)\r\n",
        "matriz_identidad = np.identity(6)\r\n",
        "print(matriz_identidad)"
      ],
      "outputs": [
        {
          "output_type": "display_data",
          "data": {
            "application/vnd.livy.statement-meta+json": {
              "spark_pool": "SPKSmallCAPlab1",
              "session_id": "22",
              "statement_id": 2,
              "state": "finished",
              "livy_statement_state": "available",
              "queued_time": "2023-07-11T10:54:14.4157018Z",
              "session_start_time": "2023-07-11T10:54:14.4866332Z",
              "execution_start_time": "2023-07-11T10:57:02.1346864Z",
              "execution_finish_time": "2023-07-11T10:57:02.3580501Z",
              "spark_jobs": null,
              "parent_msg_id": "1479f174-3078-426e-ae55-a8c1a44f0d54"
            },
            "text/plain": "StatementMeta(SPKSmallCAPlab1, 22, 2, Finished, Available)"
          },
          "metadata": {}
        },
        {
          "output_type": "stream",
          "name": "stdout",
          "text": [
            "[[0 1 2]\n [3 4 5]\n [6 7 8]]\n[[1. 0. 0. 0. 0. 0.]\n [0. 1. 0. 0. 0. 0.]\n [0. 0. 1. 0. 0. 0.]\n [0. 0. 0. 1. 0. 0.]\n [0. 0. 0. 0. 1. 0.]\n [0. 0. 0. 0. 0. 1.]]\n"
          ]
        }
      ],
      "execution_count": 1,
      "metadata": {}
    }
  ],
  "metadata": {
    "kernelspec": {
      "name": "synapse_pyspark",
      "language": "Python",
      "display_name": "Synapse PySpark"
    },
    "language_info": {
      "name": "python"
    },
    "kernel_info": {
      "name": "synapse_pyspark"
    },
    "save_output": true,
    "synapse_widget": {
      "version": "0.1",
      "state": {}
    }
  },
  "nbformat": 4,
  "nbformat_minor": 2
}